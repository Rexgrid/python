{
  "nbformat": 4,
  "nbformat_minor": 0,
  "metadata": {
    "colab": {
      "name": "Ind3.ipynb",
      "provenance": [],
      "toc_visible": true,
      "authorship_tag": "ABX9TyP1poA1onaGn45+5u1uKXBz",
      "include_colab_link": true
    },
    "kernelspec": {
      "name": "python3",
      "display_name": "Python 3"
    },
    "language_info": {
      "name": "python"
    }
  },
  "cells": [
    {
      "cell_type": "markdown",
      "metadata": {
        "id": "view-in-github",
        "colab_type": "text"
      },
      "source": [
        "<a href=\"https://colab.research.google.com/github/Rexgrid/python/blob/main/Ind3.ipynb\" target=\"_parent\"><img src=\"https://colab.research.google.com/assets/colab-badge.svg\" alt=\"Open In Colab\"/></a>"
      ]
    },
    {
      "cell_type": "code",
      "metadata": {
        "id": "8LPJyJovAMIl"
      },
      "source": [
        "def grader(score):\n",
        "    if (score > 0 and score < 60):\n",
        "      return 'Не удовлетворительно'\n",
        "    elif (score >= 60 and score <= 74):\n",
        "      return 'Удовлетворительно'\n",
        "    elif (score > 74 and score <= 90):\n",
        "      return 'Хорошо'   \n",
        "    elif (score > 90 and  score <= 100):\n",
        "      return 'Отлично'\n",
        "  "
      ],
      "execution_count": 88,
      "outputs": []
    },
    {
      "cell_type": "code",
      "metadata": {
        "id": "FypNBCMtqZEF"
      },
      "source": [
        "grader(101)\n"
      ],
      "execution_count": 89,
      "outputs": []
    }
  ]
}